{
 "cells": [
  {
   "cell_type": "code",
   "execution_count": 97,
   "metadata": {
    "collapsed": false
   },
   "outputs": [],
   "source": [
    "import pandas as pd\n",
    "import numpy as np\n",
    "import matplotlib\n",
    "import matplotlib.pyplot as plt\n",
    "import re\n",
    "\n",
    "%matplotlib inline"
   ]
  },
  {
   "cell_type": "code",
   "execution_count": 98,
   "metadata": {
    "collapsed": true
   },
   "outputs": [],
   "source": [
    "data = pd.read_csv('data_small.csv')"
   ]
  },
  {
   "cell_type": "code",
   "execution_count": 99,
   "metadata": {
    "collapsed": false
   },
   "outputs": [
    {
     "data": {
      "text/html": [
       "<div>\n",
       "<table border=\"1\" class=\"dataframe\">\n",
       "  <thead>\n",
       "    <tr style=\"text-align: right;\">\n",
       "      <th></th>\n",
       "      <th>Category</th>\n",
       "      <th>Url</th>\n",
       "      <th>Text</th>\n",
       "    </tr>\n",
       "  </thead>\n",
       "  <tbody>\n",
       "    <tr>\n",
       "      <th>0</th>\n",
       "      <td>Agriculture</td>\n",
       "      <td>http://www.cartercenter.org/health/agriculture...</td>\n",
       "      <td>The Carter Center Waging Peace. Fighting Dise...</td>\n",
       "    </tr>\n",
       "    <tr>\n",
       "      <th>1</th>\n",
       "      <td>Agriculture</td>\n",
       "      <td>http://www.agriculturalproductsindia.com/</td>\n",
       "      <td>home  Introduction History Technology Agro As...</td>\n",
       "    </tr>\n",
       "    <tr>\n",
       "      <th>2</th>\n",
       "      <td>Agriculture</td>\n",
       "      <td>http://www.sare.org/</td>\n",
       "      <td>Advanced Search | MySARE Login | Social Media...</td>\n",
       "    </tr>\n",
       "    <tr>\n",
       "      <th>3</th>\n",
       "      <td>Agriculture</td>\n",
       "      <td>http://www.world-agriculture.com/</td>\n",
       "      <td>412 Error Your request got filtered out due t...</td>\n",
       "    </tr>\n",
       "    <tr>\n",
       "      <th>4</th>\n",
       "      <td>Agriculture</td>\n",
       "      <td>http://www.cias.wisc.edu/</td>\n",
       "      <td>ABOUT PEOPLE CONTACT DONATE      join our ema...</td>\n",
       "    </tr>\n",
       "  </tbody>\n",
       "</table>\n",
       "</div>"
      ],
      "text/plain": [
       "      Category                                                Url  \\\n",
       "0  Agriculture  http://www.cartercenter.org/health/agriculture...   \n",
       "1  Agriculture          http://www.agriculturalproductsindia.com/   \n",
       "2  Agriculture                               http://www.sare.org/   \n",
       "3  Agriculture                  http://www.world-agriculture.com/   \n",
       "4  Agriculture                          http://www.cias.wisc.edu/   \n",
       "\n",
       "                                                Text  \n",
       "0   The Carter Center Waging Peace. Fighting Dise...  \n",
       "1   home  Introduction History Technology Agro As...  \n",
       "2   Advanced Search | MySARE Login | Social Media...  \n",
       "3   412 Error Your request got filtered out due t...  \n",
       "4   ABOUT PEOPLE CONTACT DONATE      join our ema...  "
      ]
     },
     "execution_count": 99,
     "metadata": {},
     "output_type": "execute_result"
    }
   ],
   "source": [
    "data.head()"
   ]
  },
  {
   "cell_type": "code",
   "execution_count": 100,
   "metadata": {
    "collapsed": false
   },
   "outputs": [
    {
     "data": {
      "text/plain": [
       "57306"
      ]
     },
     "execution_count": 100,
     "metadata": {},
     "output_type": "execute_result"
    }
   ],
   "source": [
    "len(data)"
   ]
  },
  {
   "cell_type": "code",
   "execution_count": 102,
   "metadata": {
    "collapsed": true
   },
   "outputs": [],
   "source": [
    "data = data.dropna()"
   ]
  },
  {
   "cell_type": "code",
   "execution_count": 23,
   "metadata": {
    "collapsed": false
   },
   "outputs": [
    {
     "data": {
      "text/plain": [
       "37306"
      ]
     },
     "execution_count": 23,
     "metadata": {},
     "output_type": "execute_result"
    }
   ],
   "source": [
    "len(data)"
   ]
  },
  {
   "cell_type": "code",
   "execution_count": 6,
   "metadata": {
    "collapsed": true
   },
   "outputs": [],
   "source": [
    "##### Bad text --\n",
    "## 412 Error\n",
    "## Please enable cookies"
   ]
  },
  {
   "cell_type": "code",
   "execution_count": 103,
   "metadata": {
    "collapsed": false
   },
   "outputs": [],
   "source": [
    "def isbad(text):\n",
    "    texttosearch = text[:40]\n",
    "    type1 = re.search(\".*\\d\\d\\d Error\",texttosearch)\n",
    "    type2 = re.search(\".*Please enable cookies\",texttosearch)\n",
    "    #print(\"hey\")\n",
    "    if type1 or type2:\n",
    "        return None\n",
    "    else:\n",
    "        return text\n",
    "    \n",
    "data['Clean_Text'] = data['Text'].apply(isbad)"
   ]
  },
  {
   "cell_type": "code",
   "execution_count": 104,
   "metadata": {
    "collapsed": false
   },
   "outputs": [],
   "source": [
    "data = data.dropna()"
   ]
  },
  {
   "cell_type": "code",
   "execution_count": 105,
   "metadata": {
    "collapsed": false
   },
   "outputs": [
    {
     "data": {
      "text/plain": [
       "33888"
      ]
     },
     "execution_count": 105,
     "metadata": {},
     "output_type": "execute_result"
    }
   ],
   "source": [
    "len(data)"
   ]
  },
  {
   "cell_type": "code",
   "execution_count": 72,
   "metadata": {
    "collapsed": false
   },
   "outputs": [],
   "source": []
  },
  {
   "cell_type": "code",
   "execution_count": 74,
   "metadata": {
    "collapsed": true
   },
   "outputs": [],
   "source": [
    "############ Data has now been cleaned, should be ready for machine learning"
   ]
  },
  {
   "cell_type": "code",
   "execution_count": 106,
   "metadata": {
    "collapsed": false
   },
   "outputs": [],
   "source": [
    "del data['Clean_Text']"
   ]
  },
  {
   "cell_type": "code",
   "execution_count": 107,
   "metadata": {
    "collapsed": true
   },
   "outputs": [],
   "source": [
    "data.to_csv('clean.csv',index=False)"
   ]
  },
  {
   "cell_type": "code",
   "execution_count": 108,
   "metadata": {
    "collapsed": false
   },
   "outputs": [],
   "source": [
    "def getalldomains(lis):\n",
    "    ret=[]\n",
    "    for url in lis:\n",
    "        get = re.search(r\"\\.(\\w+)/\",url)\n",
    "        if get:\n",
    "            if get.group(1) not in ret:\n",
    "                ret.append(get.group(1))\n",
    "    \n",
    "    return ret\n",
    "\n",
    "#getalldomains(data['Url'])"
   ]
  },
  {
   "cell_type": "code",
   "execution_count": 109,
   "metadata": {
    "collapsed": true
   },
   "outputs": [],
   "source": [
    "foreigndomains = [\n",
    " 'fr',\n",
    " 'pk',\n",
    " 'cz',\n",
    " 'hr',\n",
    " 'za',\n",
    " 'bw',\n",
    " 'tw',\n",
    " 'in',\n",
    " 'no',\n",
    " 'cn',\n",
    " 'ch',\n",
    " 'gr',\n",
    " 'cr',\n",
    " 'nl',\n",
    " 'se',\n",
    " 'dk',\n",
    " 'ar',\n",
    " 'nz',\n",
    " 'il',\n",
    " 'it',\n",
    " 'de',\n",
    " 'be',\n",
    " 'pt',\n",
    " 'sg',\n",
    " 'tt',\n",
    " 'ee',\n",
    " 'jp',\n",
    " 'rs',\n",
    " 'az',\n",
    " 'ru',\n",
    " 'bf',\n",
    " 'lb',\n",
    " 'ht',\n",
    " 'pl',\n",
    " 'cy',\n",
    " 'br',\n",
    " 'tr',\n",
    " 'ma',\n",
    " 'ug',\n",
    " 'na',\n",
    " 'zw',\n",
    " 'gh',\n",
    " 'cl',\n",
    " 'fi',\n",
    " 'at',\n",
    " 'es',\n",
    " 'lt',\n",
    " 'my',\n",
    " 'uy',\n",
    " 'co',\n",
    " 'hu',\n",
    " 'ua',\n",
    " 'si',\n",
    " 'am',\n",
    " 'bn',\n",
    " 'ph',\n",
    " 'dz',\n",
    " 'lu',\n",
    " 'ke',\n",
    " 'nc',\n",
    " 'sn',\n",
    " 'is',\n",
    " 'cc',\n",
    " 'lv',\n",
    " 'pg',\n",
    " 'ir',\n",
    " 'sk',\n",
    " 'ge',\n",
    " 'np',\n",
    " 'hk',\n",
    " 'ck',\n",
    " 'kz',\n",
    " 'gi',\n",
    " 'et',\n",
    " 'tz',\n",
    " 'id',\n",
    " 'vn',\n",
    " 'ng',\n",
    " 'va',\n",
    " 'lk',\n",
    " 'bg',\n",
    " 'ro',\n",
    " 'fo',\n",
    " 'mk',\n",
    " 'mt',\n",
    " 'sa',\n",
    " 'zm',\n",
    " 'rw',\n",
    " 'sz',\n",
    " 'gm',\n",
    " 'sc',\n",
    " 'sb',\n",
    " 'fj',\n",
    " 'to',\n",
    " 'kr',\n",
    " 'ky',\n",
    " 'ai',\n",
    " 'cu',\n",
    " 'bz',\n",
    " 'fm',\n",
    " 'me',\n",
    " 'tm',\n",
    " 'uz',\n",
    " 'gs',\n",
    " 'bb',\n",
    " 'nu',\n",
    " 'by',\n",
    " 'ao']"
   ]
  },
  {
   "cell_type": "code",
   "execution_count": 110,
   "metadata": {
    "collapsed": false
   },
   "outputs": [],
   "source": [
    "def getdomainnamematched(text,foreigndomains):\n",
    "    match = re.search(r'\\.(\\w+)/',text)\n",
    "    if match:\n",
    "        match = match.group(1)\n",
    "    else:\n",
    "        match = \"Suyash\"\n",
    "    if match in foreigndomains:\n",
    "        return None\n",
    "    else:\n",
    "        return text\n",
    "    \n",
    "data['Clean_Url'] = data['Url'].apply(getdomainnamematched,foreigndomains=foreigndomains)"
   ]
  },
  {
   "cell_type": "code",
   "execution_count": 111,
   "metadata": {
    "collapsed": false
   },
   "outputs": [],
   "source": [
    "data_notforeign = data.dropna()"
   ]
  },
  {
   "cell_type": "code",
   "execution_count": 112,
   "metadata": {
    "collapsed": false
   },
   "outputs": [
    {
     "data": {
      "text/plain": [
       "32790"
      ]
     },
     "execution_count": 112,
     "metadata": {},
     "output_type": "execute_result"
    }
   ],
   "source": [
    "len(data_notforeign)"
   ]
  },
  {
   "cell_type": "code",
   "execution_count": 114,
   "metadata": {
    "collapsed": true
   },
   "outputs": [],
   "source": [
    "data_notforeign.to_csv('notforeign.csv',index=False)"
   ]
  },
  {
   "cell_type": "code",
   "execution_count": 113,
   "metadata": {
    "collapsed": false
   },
   "outputs": [
    {
     "data": {
      "text/plain": [
       "17044"
      ]
     },
     "execution_count": 113,
     "metadata": {},
     "output_type": "execute_result"
    }
   ],
   "source": [
    "len(data_notforeign[data_notforeign['Category']=='Agriculture'])"
   ]
  },
  {
   "cell_type": "code",
   "execution_count": 116,
   "metadata": {
    "collapsed": false
   },
   "outputs": [],
   "source": [
    "del data_notforeign['Clean_Url']"
   ]
  },
  {
   "cell_type": "code",
   "execution_count": 126,
   "metadata": {
    "collapsed": true
   },
   "outputs": [],
   "source": [
    "import string\n",
    "def removepunctuation(x):\n",
    "    #x = x.replace('.',' ')\n",
    "    #x = x.replace(')',' ')\n",
    "    #x = x.replace('(',' ')\n",
    "    replace_punctuation = string.maketrans(string.punctuation, ' '*len(string.punctuation))\n",
    "    x = x.translate(replace_punctuation)\n",
    "    #retstr = x.translate(string.maketrans(\"\",\"\"), string.punctuation)\n",
    "    return x\n",
    "    \n",
    "def removeunicode(x):\n",
    "    return re.sub(r'[^\\x00-\\x7F]+',' ', x)\n",
    "def lowercasestring(x):\n",
    "    return x.lower()\n",
    "\n",
    "def removedigits(s):\n",
    "    s = re.sub(\" \\d+\", \" \", s)\n",
    "    return s\n",
    "    \n",
    "def cleanstring(x):\n",
    "    #x=replaceredundancy(x)\n",
    "    x=removepunctuation(x)\n",
    "    x=removeunicode(x)\n",
    "    #x = trimstring(x)\n",
    "    x=removedigits(x)\n",
    "    x=lowercasestring(x)\n",
    "    return x "
   ]
  },
  {
   "cell_type": "code",
   "execution_count": 130,
   "metadata": {
    "collapsed": false
   },
   "outputs": [
    {
     "data": {
      "text/plain": [
       "0         the carter center waging peace  fighting dise...\n",
       "1         home  introduction history technology agro as...\n",
       "2         advanced search   mysare login   social media...\n",
       "4         about people contact donate   join our email ...\n",
       "5         home sitemap what sets gsc apart continuum of...\n",
       "6         the organic agriculture information access is...\n",
       "7          englishfran ais espa ol fao homeorganic agri...\n",
       "8         pages navigation menu home about the mission ...\n",
       "9         welcome to farmworld com farmworld was establ...\n",
       "10         nbsp topics animal health biotechnology clim...\n",
       "11        toggle navigation home messages wanted for sa...\n",
       "12        rodale institute about us mission and history...\n",
       "13        the beginning farmer the journey of a beginni...\n",
       "14        you are not logged in  sign in   forgot passw...\n",
       "15            you are here  home   nal catalog   the na...\n",
       "16        agricultural law press publications and semin...\n",
       "18          english espa ol fran ais portugu s italiano...\n",
       "19        skip to content by using this website  you co...\n",
       "21        the web working for british agriculture jenni...\n",
       "23        skip to main content login join newsletter ta...\n",
       "24        home login about us subscribe contact us x or...\n",
       "25        skip to main content home cjo mobile mobile d...\n",
       "26        page banner united states department of agric...\n",
       "27            only when the last tree has died and the ...\n",
       "28        where we work click on map to explore our pro...\n",
       "29              digital green has moved to http   www d...\n",
       "30        view cart contact newsletter donate search fo...\n",
       "31        join tilth producers renew membership contact...\n",
       "32        agricultural sustainability institute asi pro...\n",
       "33        skip navigation iowa state university isu ext...\n",
       "                               ...                        \n",
       "57194     site archive subscribe   find and save   news...\n",
       "57199     site archive subscribe   find and save   news...\n",
       "57202     sign up log in dashboard logout my account da...\n",
       "57208     privacy policy disclaimer copyright our headl...\n",
       "57209     skip to content stay connected mission networ...\n",
       "57213     site archive subscribe   find and save   news...\n",
       "57218     site archive subscribe   find and save   news...\n",
       "57221     sign up log in dashboard logout my account da...\n",
       "57227     privacy policy disclaimer copyright our headl...\n",
       "57228     skip to content stay connected mission networ...\n",
       "57232     site archive subscribe   find and save   news...\n",
       "57237     site archive subscribe   find and save   news...\n",
       "57240     sign up log in dashboard logout my account da...\n",
       "57246     privacy policy disclaimer copyright our headl...\n",
       "57247     skip to content stay connected mission networ...\n",
       "57251     site archive subscribe   find and save   news...\n",
       "57256     site archive subscribe   find and save   news...\n",
       "57259     sign up log in dashboard logout my account da...\n",
       "57265     privacy policy disclaimer copyright our headl...\n",
       "57266     skip to content stay connected mission networ...\n",
       "57270     site archive subscribe   find and save   news...\n",
       "57275     site archive subscribe   find and save   news...\n",
       "57278     sign up log in dashboard logout my account da...\n",
       "57284     privacy policy disclaimer copyright our headl...\n",
       "57285     skip to content stay connected mission networ...\n",
       "57289     site archive subscribe   find and save   news...\n",
       "57294     site archive subscribe   find and save   news...\n",
       "57297     sign up log in dashboard logout my account da...\n",
       "57303     privacy policy disclaimer copyright our headl...\n",
       "57304     skip to content stay connected mission networ...\n",
       "Name: Clean_Text, dtype: object"
      ]
     },
     "execution_count": 130,
     "metadata": {},
     "output_type": "execute_result"
    }
   ],
   "source": [
    "data_notforeign['Clean_Text']"
   ]
  },
  {
   "cell_type": "code",
   "execution_count": 131,
   "metadata": {
    "collapsed": false
   },
   "outputs": [
    {
     "name": "stderr",
     "output_type": "stream",
     "text": [
      "/home/suyash/anaconda2/lib/python2.7/site-packages/ipykernel/__main__.py:1: SettingWithCopyWarning: \n",
      "A value is trying to be set on a copy of a slice from a DataFrame.\n",
      "Try using .loc[row_indexer,col_indexer] = value instead\n",
      "\n",
      "See the caveats in the documentation: http://pandas.pydata.org/pandas-docs/stable/indexing.html#indexing-view-versus-copy\n",
      "  if __name__ == '__main__':\n"
     ]
    }
   ],
   "source": [
    "data_notforeign['Text'] = data_notforeign['Text'].apply(cleanstring)"
   ]
  },
  {
   "cell_type": "code",
   "execution_count": 132,
   "metadata": {
    "collapsed": true
   },
   "outputs": [],
   "source": [
    "del data_notforeign['Clean_Text']"
   ]
  },
  {
   "cell_type": "code",
   "execution_count": 134,
   "metadata": {
    "collapsed": false
   },
   "outputs": [],
   "source": [
    "data_notforeign.to_csv('finaldata.csv',index=False)"
   ]
  },
  {
   "cell_type": "code",
   "execution_count": 135,
   "metadata": {
    "collapsed": true
   },
   "outputs": [],
   "source": [
    "finaldata = pd.read_csv('finaldata.csv')"
   ]
  },
  {
   "cell_type": "code",
   "execution_count": 136,
   "metadata": {
    "collapsed": false
   },
   "outputs": [
    {
     "data": {
      "text/plain": [
       "32790"
      ]
     },
     "execution_count": 136,
     "metadata": {},
     "output_type": "execute_result"
    }
   ],
   "source": [
    "len(finaldata)"
   ]
  },
  {
   "cell_type": "code",
   "execution_count": 137,
   "metadata": {
    "collapsed": false
   },
   "outputs": [
    {
     "data": {
      "text/html": [
       "<div>\n",
       "<table border=\"1\" class=\"dataframe\">\n",
       "  <thead>\n",
       "    <tr style=\"text-align: right;\">\n",
       "      <th></th>\n",
       "      <th>Category</th>\n",
       "      <th>Url</th>\n",
       "      <th>Text</th>\n",
       "    </tr>\n",
       "  </thead>\n",
       "  <tbody>\n",
       "    <tr>\n",
       "      <th>0</th>\n",
       "      <td>Agriculture</td>\n",
       "      <td>http://www.cartercenter.org/health/agriculture...</td>\n",
       "      <td>the carter center waging peace  fighting dise...</td>\n",
       "    </tr>\n",
       "    <tr>\n",
       "      <th>1</th>\n",
       "      <td>Agriculture</td>\n",
       "      <td>http://www.agriculturalproductsindia.com/</td>\n",
       "      <td>home  introduction history technology agro as...</td>\n",
       "    </tr>\n",
       "    <tr>\n",
       "      <th>2</th>\n",
       "      <td>Agriculture</td>\n",
       "      <td>http://www.sare.org/</td>\n",
       "      <td>advanced search   mysare login   social media...</td>\n",
       "    </tr>\n",
       "    <tr>\n",
       "      <th>3</th>\n",
       "      <td>Agriculture</td>\n",
       "      <td>http://www.cias.wisc.edu/</td>\n",
       "      <td>about people contact donate   join our email ...</td>\n",
       "    </tr>\n",
       "    <tr>\n",
       "      <th>4</th>\n",
       "      <td>Agriculture</td>\n",
       "      <td>http://www.globalservicecorps.org/site/tanzani...</td>\n",
       "      <td>home sitemap what sets gsc apart continuum of...</td>\n",
       "    </tr>\n",
       "    <tr>\n",
       "      <th>5</th>\n",
       "      <td>Agriculture</td>\n",
       "      <td>http://quod.lib.umich.edu/n/nal/</td>\n",
       "      <td>the organic agriculture information access is...</td>\n",
       "    </tr>\n",
       "    <tr>\n",
       "      <th>6</th>\n",
       "      <td>Agriculture</td>\n",
       "      <td>http://www.fao.org/organicag/</td>\n",
       "      <td>englishfran ais espa ol fao homeorganic agri...</td>\n",
       "    </tr>\n",
       "    <tr>\n",
       "      <th>7</th>\n",
       "      <td>Agriculture</td>\n",
       "      <td>http://michaelfields.org/</td>\n",
       "      <td>pages navigation menu home about the mission ...</td>\n",
       "    </tr>\n",
       "    <tr>\n",
       "      <th>8</th>\n",
       "      <td>Agriculture</td>\n",
       "      <td>http://www.farmworld.com</td>\n",
       "      <td>welcome to farmworld com farmworld was establ...</td>\n",
       "    </tr>\n",
       "    <tr>\n",
       "      <th>9</th>\n",
       "      <td>Agriculture</td>\n",
       "      <td>http://www.usda.gov/</td>\n",
       "      <td>nbsp topics animal health biotechnology clim...</td>\n",
       "    </tr>\n",
       "    <tr>\n",
       "      <th>10</th>\n",
       "      <td>Agriculture</td>\n",
       "      <td>http://www.agricultureinformation.com</td>\n",
       "      <td>toggle navigation home messages wanted for sa...</td>\n",
       "    </tr>\n",
       "    <tr>\n",
       "      <th>11</th>\n",
       "      <td>Agriculture</td>\n",
       "      <td>http://www.rodaleinstitute.org/</td>\n",
       "      <td>rodale institute about us mission and history...</td>\n",
       "    </tr>\n",
       "    <tr>\n",
       "      <th>12</th>\n",
       "      <td>Agriculture</td>\n",
       "      <td>http://thebeginningfarmer.blogspot.com/</td>\n",
       "      <td>the beginning farmer the journey of a beginni...</td>\n",
       "    </tr>\n",
       "    <tr>\n",
       "      <th>13</th>\n",
       "      <td>Agriculture</td>\n",
       "      <td>http://www.agriculturaleducation.org/</td>\n",
       "      <td>you are not logged in  sign in   forgot passw...</td>\n",
       "    </tr>\n",
       "    <tr>\n",
       "      <th>14</th>\n",
       "      <td>Agriculture</td>\n",
       "      <td>http://agricola.nal.usda.gov/</td>\n",
       "      <td>you are here  home   nal catalog   the na...</td>\n",
       "    </tr>\n",
       "    <tr>\n",
       "      <th>15</th>\n",
       "      <td>Agriculture</td>\n",
       "      <td>http://www.agrilawpress.com/</td>\n",
       "      <td>agricultural law press publications and semin...</td>\n",
       "    </tr>\n",
       "    <tr>\n",
       "      <th>16</th>\n",
       "      <td>Agriculture</td>\n",
       "      <td>http://dictionary.babylon.com/science/agriculture</td>\n",
       "      <td>english espa ol fran ais portugu s italiano...</td>\n",
       "    </tr>\n",
       "    <tr>\n",
       "      <th>17</th>\n",
       "      <td>Agriculture</td>\n",
       "      <td>http://www.agriculture.gov.ie</td>\n",
       "      <td>skip to content by using this website  you co...</td>\n",
       "    </tr>\n",
       "    <tr>\n",
       "      <th>18</th>\n",
       "      <td>Agriculture</td>\n",
       "      <td>http://www.tumpline.com/agriculture</td>\n",
       "      <td>the web working for british agriculture jenni...</td>\n",
       "    </tr>\n",
       "    <tr>\n",
       "      <th>19</th>\n",
       "      <td>Agriculture</td>\n",
       "      <td>http://www.agriculture.com/</td>\n",
       "      <td>skip to main content login join newsletter ta...</td>\n",
       "    </tr>\n",
       "    <tr>\n",
       "      <th>20</th>\n",
       "      <td>Agriculture</td>\n",
       "      <td>http://www.indiaagristat.com/</td>\n",
       "      <td>home login about us subscribe contact us x or...</td>\n",
       "    </tr>\n",
       "    <tr>\n",
       "      <th>21</th>\n",
       "      <td>Agriculture</td>\n",
       "      <td>http://journals.cambridge.org/action/displayJo...</td>\n",
       "      <td>skip to main content home cjo mobile mobile d...</td>\n",
       "    </tr>\n",
       "    <tr>\n",
       "      <th>22</th>\n",
       "      <td>Agriculture</td>\n",
       "      <td>http://www.ars.usda.gov/services/TekTran.htm</td>\n",
       "      <td>page banner united states department of agric...</td>\n",
       "    </tr>\n",
       "    <tr>\n",
       "      <th>23</th>\n",
       "      <td>Agriculture</td>\n",
       "      <td>http://supak.com/end/organic_agriculture.htm</td>\n",
       "      <td>only when the last tree has died and the ...</td>\n",
       "    </tr>\n",
       "    <tr>\n",
       "      <th>24</th>\n",
       "      <td>Agriculture</td>\n",
       "      <td>http://www.syngentafoundation.com</td>\n",
       "      <td>where we work click on map to explore our pro...</td>\n",
       "    </tr>\n",
       "    <tr>\n",
       "      <th>25</th>\n",
       "      <td>Agriculture</td>\n",
       "      <td>http://research.microsoft.com/en-us/um/india/p...</td>\n",
       "      <td>digital green has moved to http   www d...</td>\n",
       "    </tr>\n",
       "    <tr>\n",
       "      <th>26</th>\n",
       "      <td>Agriculture</td>\n",
       "      <td>http://www.landinstitute.org/</td>\n",
       "      <td>view cart contact newsletter donate search fo...</td>\n",
       "    </tr>\n",
       "    <tr>\n",
       "      <th>27</th>\n",
       "      <td>Agriculture</td>\n",
       "      <td>http://www.tilthproducers.org/</td>\n",
       "      <td>join tilth producers renew membership contact...</td>\n",
       "    </tr>\n",
       "    <tr>\n",
       "      <th>28</th>\n",
       "      <td>Agriculture</td>\n",
       "      <td>http://ltras.ucdavis.edu/</td>\n",
       "      <td>agricultural sustainability institute asi pro...</td>\n",
       "    </tr>\n",
       "    <tr>\n",
       "      <th>29</th>\n",
       "      <td>Agriculture</td>\n",
       "      <td>http://extension.agron.iastate.edu/sustag/</td>\n",
       "      <td>skip navigation iowa state university isu ext...</td>\n",
       "    </tr>\n",
       "    <tr>\n",
       "      <th>...</th>\n",
       "      <td>...</td>\n",
       "      <td>...</td>\n",
       "      <td>...</td>\n",
       "    </tr>\n",
       "    <tr>\n",
       "      <th>32760</th>\n",
       "      <td>News</td>\n",
       "      <td>http://www.therolladailynews.com/</td>\n",
       "      <td>site archive subscribe   find and save   news...</td>\n",
       "    </tr>\n",
       "    <tr>\n",
       "      <th>32761</th>\n",
       "      <td>News</td>\n",
       "      <td>http://www.boonvilledailynews.com/</td>\n",
       "      <td>site archive subscribe   find and save   news...</td>\n",
       "    </tr>\n",
       "    <tr>\n",
       "      <th>32762</th>\n",
       "      <td>News</td>\n",
       "      <td>http://www.columbiamissourian.com/</td>\n",
       "      <td>sign up log in dashboard logout my account da...</td>\n",
       "    </tr>\n",
       "    <tr>\n",
       "      <th>32763</th>\n",
       "      <td>News</td>\n",
       "      <td>http://www.religionnewsblog.com/</td>\n",
       "      <td>privacy policy disclaimer copyright our headl...</td>\n",
       "    </tr>\n",
       "    <tr>\n",
       "      <th>32764</th>\n",
       "      <td>News</td>\n",
       "      <td>http://www.mnnonline.org/</td>\n",
       "      <td>skip to content stay connected mission networ...</td>\n",
       "    </tr>\n",
       "    <tr>\n",
       "      <th>32765</th>\n",
       "      <td>News</td>\n",
       "      <td>http://www.therolladailynews.com/</td>\n",
       "      <td>site archive subscribe   find and save   news...</td>\n",
       "    </tr>\n",
       "    <tr>\n",
       "      <th>32766</th>\n",
       "      <td>News</td>\n",
       "      <td>http://www.boonvilledailynews.com/</td>\n",
       "      <td>site archive subscribe   find and save   news...</td>\n",
       "    </tr>\n",
       "    <tr>\n",
       "      <th>32767</th>\n",
       "      <td>News</td>\n",
       "      <td>http://www.columbiamissourian.com/</td>\n",
       "      <td>sign up log in dashboard logout my account da...</td>\n",
       "    </tr>\n",
       "    <tr>\n",
       "      <th>32768</th>\n",
       "      <td>News</td>\n",
       "      <td>http://www.religionnewsblog.com/</td>\n",
       "      <td>privacy policy disclaimer copyright our headl...</td>\n",
       "    </tr>\n",
       "    <tr>\n",
       "      <th>32769</th>\n",
       "      <td>News</td>\n",
       "      <td>http://www.mnnonline.org/</td>\n",
       "      <td>skip to content stay connected mission networ...</td>\n",
       "    </tr>\n",
       "    <tr>\n",
       "      <th>32770</th>\n",
       "      <td>News</td>\n",
       "      <td>http://www.therolladailynews.com/</td>\n",
       "      <td>site archive subscribe   find and save   news...</td>\n",
       "    </tr>\n",
       "    <tr>\n",
       "      <th>32771</th>\n",
       "      <td>News</td>\n",
       "      <td>http://www.boonvilledailynews.com/</td>\n",
       "      <td>site archive subscribe   find and save   news...</td>\n",
       "    </tr>\n",
       "    <tr>\n",
       "      <th>32772</th>\n",
       "      <td>News</td>\n",
       "      <td>http://www.columbiamissourian.com/</td>\n",
       "      <td>sign up log in dashboard logout my account da...</td>\n",
       "    </tr>\n",
       "    <tr>\n",
       "      <th>32773</th>\n",
       "      <td>News</td>\n",
       "      <td>http://www.religionnewsblog.com/</td>\n",
       "      <td>privacy policy disclaimer copyright our headl...</td>\n",
       "    </tr>\n",
       "    <tr>\n",
       "      <th>32774</th>\n",
       "      <td>News</td>\n",
       "      <td>http://www.mnnonline.org/</td>\n",
       "      <td>skip to content stay connected mission networ...</td>\n",
       "    </tr>\n",
       "    <tr>\n",
       "      <th>32775</th>\n",
       "      <td>News</td>\n",
       "      <td>http://www.therolladailynews.com/</td>\n",
       "      <td>site archive subscribe   find and save   news...</td>\n",
       "    </tr>\n",
       "    <tr>\n",
       "      <th>32776</th>\n",
       "      <td>News</td>\n",
       "      <td>http://www.boonvilledailynews.com/</td>\n",
       "      <td>site archive subscribe   find and save   news...</td>\n",
       "    </tr>\n",
       "    <tr>\n",
       "      <th>32777</th>\n",
       "      <td>News</td>\n",
       "      <td>http://www.columbiamissourian.com/</td>\n",
       "      <td>sign up log in dashboard logout my account da...</td>\n",
       "    </tr>\n",
       "    <tr>\n",
       "      <th>32778</th>\n",
       "      <td>News</td>\n",
       "      <td>http://www.religionnewsblog.com/</td>\n",
       "      <td>privacy policy disclaimer copyright our headl...</td>\n",
       "    </tr>\n",
       "    <tr>\n",
       "      <th>32779</th>\n",
       "      <td>News</td>\n",
       "      <td>http://www.mnnonline.org/</td>\n",
       "      <td>skip to content stay connected mission networ...</td>\n",
       "    </tr>\n",
       "    <tr>\n",
       "      <th>32780</th>\n",
       "      <td>News</td>\n",
       "      <td>http://www.therolladailynews.com/</td>\n",
       "      <td>site archive subscribe   find and save   news...</td>\n",
       "    </tr>\n",
       "    <tr>\n",
       "      <th>32781</th>\n",
       "      <td>News</td>\n",
       "      <td>http://www.boonvilledailynews.com/</td>\n",
       "      <td>site archive subscribe   find and save   news...</td>\n",
       "    </tr>\n",
       "    <tr>\n",
       "      <th>32782</th>\n",
       "      <td>News</td>\n",
       "      <td>http://www.columbiamissourian.com/</td>\n",
       "      <td>sign up log in dashboard logout my account da...</td>\n",
       "    </tr>\n",
       "    <tr>\n",
       "      <th>32783</th>\n",
       "      <td>News</td>\n",
       "      <td>http://www.religionnewsblog.com/</td>\n",
       "      <td>privacy policy disclaimer copyright our headl...</td>\n",
       "    </tr>\n",
       "    <tr>\n",
       "      <th>32784</th>\n",
       "      <td>News</td>\n",
       "      <td>http://www.mnnonline.org/</td>\n",
       "      <td>skip to content stay connected mission networ...</td>\n",
       "    </tr>\n",
       "    <tr>\n",
       "      <th>32785</th>\n",
       "      <td>News</td>\n",
       "      <td>http://www.therolladailynews.com/</td>\n",
       "      <td>site archive subscribe   find and save   news...</td>\n",
       "    </tr>\n",
       "    <tr>\n",
       "      <th>32786</th>\n",
       "      <td>News</td>\n",
       "      <td>http://www.boonvilledailynews.com/</td>\n",
       "      <td>site archive subscribe   find and save   news...</td>\n",
       "    </tr>\n",
       "    <tr>\n",
       "      <th>32787</th>\n",
       "      <td>News</td>\n",
       "      <td>http://www.columbiamissourian.com/</td>\n",
       "      <td>sign up log in dashboard logout my account da...</td>\n",
       "    </tr>\n",
       "    <tr>\n",
       "      <th>32788</th>\n",
       "      <td>News</td>\n",
       "      <td>http://www.religionnewsblog.com/</td>\n",
       "      <td>privacy policy disclaimer copyright our headl...</td>\n",
       "    </tr>\n",
       "    <tr>\n",
       "      <th>32789</th>\n",
       "      <td>News</td>\n",
       "      <td>http://www.mnnonline.org/</td>\n",
       "      <td>skip to content stay connected mission networ...</td>\n",
       "    </tr>\n",
       "  </tbody>\n",
       "</table>\n",
       "<p>32790 rows × 3 columns</p>\n",
       "</div>"
      ],
      "text/plain": [
       "          Category                                                Url  \\\n",
       "0      Agriculture  http://www.cartercenter.org/health/agriculture...   \n",
       "1      Agriculture          http://www.agriculturalproductsindia.com/   \n",
       "2      Agriculture                               http://www.sare.org/   \n",
       "3      Agriculture                          http://www.cias.wisc.edu/   \n",
       "4      Agriculture  http://www.globalservicecorps.org/site/tanzani...   \n",
       "5      Agriculture                   http://quod.lib.umich.edu/n/nal/   \n",
       "6      Agriculture                      http://www.fao.org/organicag/   \n",
       "7      Agriculture                          http://michaelfields.org/   \n",
       "8      Agriculture                           http://www.farmworld.com   \n",
       "9      Agriculture                               http://www.usda.gov/   \n",
       "10     Agriculture              http://www.agricultureinformation.com   \n",
       "11     Agriculture                    http://www.rodaleinstitute.org/   \n",
       "12     Agriculture            http://thebeginningfarmer.blogspot.com/   \n",
       "13     Agriculture              http://www.agriculturaleducation.org/   \n",
       "14     Agriculture                      http://agricola.nal.usda.gov/   \n",
       "15     Agriculture                       http://www.agrilawpress.com/   \n",
       "16     Agriculture  http://dictionary.babylon.com/science/agriculture   \n",
       "17     Agriculture                      http://www.agriculture.gov.ie   \n",
       "18     Agriculture                http://www.tumpline.com/agriculture   \n",
       "19     Agriculture                        http://www.agriculture.com/   \n",
       "20     Agriculture                      http://www.indiaagristat.com/   \n",
       "21     Agriculture  http://journals.cambridge.org/action/displayJo...   \n",
       "22     Agriculture       http://www.ars.usda.gov/services/TekTran.htm   \n",
       "23     Agriculture       http://supak.com/end/organic_agriculture.htm   \n",
       "24     Agriculture                  http://www.syngentafoundation.com   \n",
       "25     Agriculture  http://research.microsoft.com/en-us/um/india/p...   \n",
       "26     Agriculture                      http://www.landinstitute.org/   \n",
       "27     Agriculture                     http://www.tilthproducers.org/   \n",
       "28     Agriculture                          http://ltras.ucdavis.edu/   \n",
       "29     Agriculture         http://extension.agron.iastate.edu/sustag/   \n",
       "...            ...                                                ...   \n",
       "32760         News                  http://www.therolladailynews.com/   \n",
       "32761         News                 http://www.boonvilledailynews.com/   \n",
       "32762         News                 http://www.columbiamissourian.com/   \n",
       "32763         News                   http://www.religionnewsblog.com/   \n",
       "32764         News                          http://www.mnnonline.org/   \n",
       "32765         News                  http://www.therolladailynews.com/   \n",
       "32766         News                 http://www.boonvilledailynews.com/   \n",
       "32767         News                 http://www.columbiamissourian.com/   \n",
       "32768         News                   http://www.religionnewsblog.com/   \n",
       "32769         News                          http://www.mnnonline.org/   \n",
       "32770         News                  http://www.therolladailynews.com/   \n",
       "32771         News                 http://www.boonvilledailynews.com/   \n",
       "32772         News                 http://www.columbiamissourian.com/   \n",
       "32773         News                   http://www.religionnewsblog.com/   \n",
       "32774         News                          http://www.mnnonline.org/   \n",
       "32775         News                  http://www.therolladailynews.com/   \n",
       "32776         News                 http://www.boonvilledailynews.com/   \n",
       "32777         News                 http://www.columbiamissourian.com/   \n",
       "32778         News                   http://www.religionnewsblog.com/   \n",
       "32779         News                          http://www.mnnonline.org/   \n",
       "32780         News                  http://www.therolladailynews.com/   \n",
       "32781         News                 http://www.boonvilledailynews.com/   \n",
       "32782         News                 http://www.columbiamissourian.com/   \n",
       "32783         News                   http://www.religionnewsblog.com/   \n",
       "32784         News                          http://www.mnnonline.org/   \n",
       "32785         News                  http://www.therolladailynews.com/   \n",
       "32786         News                 http://www.boonvilledailynews.com/   \n",
       "32787         News                 http://www.columbiamissourian.com/   \n",
       "32788         News                   http://www.religionnewsblog.com/   \n",
       "32789         News                          http://www.mnnonline.org/   \n",
       "\n",
       "                                                    Text  \n",
       "0       the carter center waging peace  fighting dise...  \n",
       "1       home  introduction history technology agro as...  \n",
       "2       advanced search   mysare login   social media...  \n",
       "3       about people contact donate   join our email ...  \n",
       "4       home sitemap what sets gsc apart continuum of...  \n",
       "5       the organic agriculture information access is...  \n",
       "6        englishfran ais espa ol fao homeorganic agri...  \n",
       "7       pages navigation menu home about the mission ...  \n",
       "8       welcome to farmworld com farmworld was establ...  \n",
       "9        nbsp topics animal health biotechnology clim...  \n",
       "10      toggle navigation home messages wanted for sa...  \n",
       "11      rodale institute about us mission and history...  \n",
       "12      the beginning farmer the journey of a beginni...  \n",
       "13      you are not logged in  sign in   forgot passw...  \n",
       "14          you are here  home   nal catalog   the na...  \n",
       "15      agricultural law press publications and semin...  \n",
       "16        english espa ol fran ais portugu s italiano...  \n",
       "17      skip to content by using this website  you co...  \n",
       "18      the web working for british agriculture jenni...  \n",
       "19      skip to main content login join newsletter ta...  \n",
       "20      home login about us subscribe contact us x or...  \n",
       "21      skip to main content home cjo mobile mobile d...  \n",
       "22      page banner united states department of agric...  \n",
       "23          only when the last tree has died and the ...  \n",
       "24      where we work click on map to explore our pro...  \n",
       "25            digital green has moved to http   www d...  \n",
       "26      view cart contact newsletter donate search fo...  \n",
       "27      join tilth producers renew membership contact...  \n",
       "28      agricultural sustainability institute asi pro...  \n",
       "29      skip navigation iowa state university isu ext...  \n",
       "...                                                  ...  \n",
       "32760   site archive subscribe   find and save   news...  \n",
       "32761   site archive subscribe   find and save   news...  \n",
       "32762   sign up log in dashboard logout my account da...  \n",
       "32763   privacy policy disclaimer copyright our headl...  \n",
       "32764   skip to content stay connected mission networ...  \n",
       "32765   site archive subscribe   find and save   news...  \n",
       "32766   site archive subscribe   find and save   news...  \n",
       "32767   sign up log in dashboard logout my account da...  \n",
       "32768   privacy policy disclaimer copyright our headl...  \n",
       "32769   skip to content stay connected mission networ...  \n",
       "32770   site archive subscribe   find and save   news...  \n",
       "32771   site archive subscribe   find and save   news...  \n",
       "32772   sign up log in dashboard logout my account da...  \n",
       "32773   privacy policy disclaimer copyright our headl...  \n",
       "32774   skip to content stay connected mission networ...  \n",
       "32775   site archive subscribe   find and save   news...  \n",
       "32776   site archive subscribe   find and save   news...  \n",
       "32777   sign up log in dashboard logout my account da...  \n",
       "32778   privacy policy disclaimer copyright our headl...  \n",
       "32779   skip to content stay connected mission networ...  \n",
       "32780   site archive subscribe   find and save   news...  \n",
       "32781   site archive subscribe   find and save   news...  \n",
       "32782   sign up log in dashboard logout my account da...  \n",
       "32783   privacy policy disclaimer copyright our headl...  \n",
       "32784   skip to content stay connected mission networ...  \n",
       "32785   site archive subscribe   find and save   news...  \n",
       "32786   site archive subscribe   find and save   news...  \n",
       "32787   sign up log in dashboard logout my account da...  \n",
       "32788   privacy policy disclaimer copyright our headl...  \n",
       "32789   skip to content stay connected mission networ...  \n",
       "\n",
       "[32790 rows x 3 columns]"
      ]
     },
     "execution_count": 137,
     "metadata": {},
     "output_type": "execute_result"
    }
   ],
   "source": [
    "finaldata"
   ]
  },
  {
   "cell_type": "code",
   "execution_count": null,
   "metadata": {
    "collapsed": true
   },
   "outputs": [],
   "source": []
  }
 ],
 "metadata": {
  "kernelspec": {
   "display_name": "Python 2",
   "language": "python",
   "name": "python2"
  },
  "language_info": {
   "codemirror_mode": {
    "name": "ipython",
    "version": 2
   },
   "file_extension": ".py",
   "mimetype": "text/x-python",
   "name": "python",
   "nbconvert_exporter": "python",
   "pygments_lexer": "ipython2",
   "version": "2.7.11"
  }
 },
 "nbformat": 4,
 "nbformat_minor": 0
}
